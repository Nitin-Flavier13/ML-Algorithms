{
 "cells": [
  {
   "cell_type": "markdown",
   "metadata": {},
   "source": [
    "### Amazon Kindle Review Sentimental Analysis\n",
    "\n",
    "Context:  \n",
    "A small subset of dataset of product reviews from Amazon Kindle Store category.\n",
    "\n",
    "Content:  \n",
    "5-core dataset of product reviews from Amazon Kindle Store category from May 1996 - July 2014. Contains total of 982619 entries. Each reviewer has at least 5 reviews and each product has at least 5 reviews in this dataset.\n",
    "\n",
    "Columns:  \n",
    "- asin - ID of the product, like B000FA64PK  \n",
    "- helpful - helpfulness rating of the review - example: 2/3.  \n",
    "- overall - rating of the product.  \n",
    "- reviewText - text of the review (heading).  \n",
    "- reviewTime - time of the review (raw).  \n",
    "- reviewerID - ID of the reviewer, like A3SPTOKDG7WBLN  \n",
    "- reviewerName - name of the reviewer.  \n",
    "- summary - summary of the review (description).  \n",
    "- unixReviewTime - unix timestamp.  "
   ]
  },
  {
   "cell_type": "markdown",
   "metadata": {},
   "source": [
    "Acknowledgements:  \n",
    "This dataset is taken from Amazon product data, Julian McAuley, UCSD website. http://jmcauley.ucsd.edu/data/amazon/  \n",
    "\n",
    "License to the data files belong to them.  \n",
    "\n",
    "Inspiration:  \n",
    "1) Sentiment analysis on reviews.  \n",
    "2) Understanding how people rate usefulness of a review/ What factors influence helpfulness of a review.\n",
    "3) Fake reviews/ outliers.\n",
    "4) best rated product IDs, or similarity between products based on reviews alone."
   ]
  },
  {
   "cell_type": "code",
   "execution_count": 51,
   "metadata": {},
   "outputs": [
    {
     "data": {
      "text/html": [
       "<div>\n",
       "<style scoped>\n",
       "    .dataframe tbody tr th:only-of-type {\n",
       "        vertical-align: middle;\n",
       "    }\n",
       "\n",
       "    .dataframe tbody tr th {\n",
       "        vertical-align: top;\n",
       "    }\n",
       "\n",
       "    .dataframe thead th {\n",
       "        text-align: right;\n",
       "    }\n",
       "</style>\n",
       "<table border=\"1\" class=\"dataframe\">\n",
       "  <thead>\n",
       "    <tr style=\"text-align: right;\">\n",
       "      <th></th>\n",
       "      <th>Unnamed: 0</th>\n",
       "      <th>asin</th>\n",
       "      <th>helpful</th>\n",
       "      <th>overall</th>\n",
       "      <th>reviewText</th>\n",
       "      <th>reviewTime</th>\n",
       "      <th>reviewerID</th>\n",
       "      <th>reviewerName</th>\n",
       "      <th>summary</th>\n",
       "      <th>unixReviewTime</th>\n",
       "    </tr>\n",
       "  </thead>\n",
       "  <tbody>\n",
       "    <tr>\n",
       "      <th>0</th>\n",
       "      <td>0</td>\n",
       "      <td>B000F83SZQ</td>\n",
       "      <td>[0, 0]</td>\n",
       "      <td>5</td>\n",
       "      <td>I enjoy vintage books and movies so I enjoyed ...</td>\n",
       "      <td>05 5, 2014</td>\n",
       "      <td>A1F6404F1VG29J</td>\n",
       "      <td>Avidreader</td>\n",
       "      <td>Nice vintage story</td>\n",
       "      <td>1399248000</td>\n",
       "    </tr>\n",
       "    <tr>\n",
       "      <th>1</th>\n",
       "      <td>1</td>\n",
       "      <td>B000F83SZQ</td>\n",
       "      <td>[2, 2]</td>\n",
       "      <td>4</td>\n",
       "      <td>This book is a reissue of an old one; the auth...</td>\n",
       "      <td>01 6, 2014</td>\n",
       "      <td>AN0N05A9LIJEQ</td>\n",
       "      <td>critters</td>\n",
       "      <td>Different...</td>\n",
       "      <td>1388966400</td>\n",
       "    </tr>\n",
       "    <tr>\n",
       "      <th>2</th>\n",
       "      <td>2</td>\n",
       "      <td>B000F83SZQ</td>\n",
       "      <td>[2, 2]</td>\n",
       "      <td>4</td>\n",
       "      <td>This was a fairly interesting read.  It had ol...</td>\n",
       "      <td>04 4, 2014</td>\n",
       "      <td>A795DMNCJILA6</td>\n",
       "      <td>dot</td>\n",
       "      <td>Oldie</td>\n",
       "      <td>1396569600</td>\n",
       "    </tr>\n",
       "    <tr>\n",
       "      <th>3</th>\n",
       "      <td>3</td>\n",
       "      <td>B000F83SZQ</td>\n",
       "      <td>[1, 1]</td>\n",
       "      <td>5</td>\n",
       "      <td>I'd never read any of the Amy Brewster mysteri...</td>\n",
       "      <td>02 19, 2014</td>\n",
       "      <td>A1FV0SX13TWVXQ</td>\n",
       "      <td>Elaine H. Turley \"Montana Songbird\"</td>\n",
       "      <td>I really liked it.</td>\n",
       "      <td>1392768000</td>\n",
       "    </tr>\n",
       "    <tr>\n",
       "      <th>4</th>\n",
       "      <td>4</td>\n",
       "      <td>B000F83SZQ</td>\n",
       "      <td>[0, 1]</td>\n",
       "      <td>4</td>\n",
       "      <td>If you like period pieces - clothing, lingo, y...</td>\n",
       "      <td>03 19, 2014</td>\n",
       "      <td>A3SPTOKDG7WBLN</td>\n",
       "      <td>Father Dowling Fan</td>\n",
       "      <td>Period Mystery</td>\n",
       "      <td>1395187200</td>\n",
       "    </tr>\n",
       "  </tbody>\n",
       "</table>\n",
       "</div>"
      ],
      "text/plain": [
       "   Unnamed: 0        asin helpful  overall  \\\n",
       "0           0  B000F83SZQ  [0, 0]        5   \n",
       "1           1  B000F83SZQ  [2, 2]        4   \n",
       "2           2  B000F83SZQ  [2, 2]        4   \n",
       "3           3  B000F83SZQ  [1, 1]        5   \n",
       "4           4  B000F83SZQ  [0, 1]        4   \n",
       "\n",
       "                                          reviewText   reviewTime  \\\n",
       "0  I enjoy vintage books and movies so I enjoyed ...   05 5, 2014   \n",
       "1  This book is a reissue of an old one; the auth...   01 6, 2014   \n",
       "2  This was a fairly interesting read.  It had ol...   04 4, 2014   \n",
       "3  I'd never read any of the Amy Brewster mysteri...  02 19, 2014   \n",
       "4  If you like period pieces - clothing, lingo, y...  03 19, 2014   \n",
       "\n",
       "       reviewerID                         reviewerName             summary  \\\n",
       "0  A1F6404F1VG29J                           Avidreader  Nice vintage story   \n",
       "1   AN0N05A9LIJEQ                             critters        Different...   \n",
       "2   A795DMNCJILA6                                  dot               Oldie   \n",
       "3  A1FV0SX13TWVXQ  Elaine H. Turley \"Montana Songbird\"  I really liked it.   \n",
       "4  A3SPTOKDG7WBLN                   Father Dowling Fan      Period Mystery   \n",
       "\n",
       "   unixReviewTime  \n",
       "0      1399248000  \n",
       "1      1388966400  \n",
       "2      1396569600  \n",
       "3      1392768000  \n",
       "4      1395187200  "
      ]
     },
     "execution_count": 51,
     "metadata": {},
     "output_type": "execute_result"
    }
   ],
   "source": [
    "import numpy as np\n",
    "import pandas as pd\n",
    "\n",
    "df = pd.read_csv(r'C:\\Users\\Nitin Flavier\\Desktop\\Data Nexus\\Data Science\\ML_BootCamp\\ML_Algos\\NLP\\Data\\kindle_reviews.csv')\n",
    "df.head()"
   ]
  },
  {
   "cell_type": "code",
   "execution_count": null,
   "metadata": {},
   "outputs": [
    {
     "name": "stdout",
     "output_type": "stream",
     "text": [
      "(982619, 10)\n"
     ]
    }
   ],
   "source": [
    "print(df.shape)\n",
    "\n",
    "# Randomly select 12,000 records\n",
    "df = df.sample(n=12000, random_state=42)\n"
   ]
  },
  {
   "cell_type": "code",
   "execution_count": 53,
   "metadata": {},
   "outputs": [
    {
     "data": {
      "text/html": [
       "<div>\n",
       "<style scoped>\n",
       "    .dataframe tbody tr th:only-of-type {\n",
       "        vertical-align: middle;\n",
       "    }\n",
       "\n",
       "    .dataframe tbody tr th {\n",
       "        vertical-align: top;\n",
       "    }\n",
       "\n",
       "    .dataframe thead th {\n",
       "        text-align: right;\n",
       "    }\n",
       "</style>\n",
       "<table border=\"1\" class=\"dataframe\">\n",
       "  <thead>\n",
       "    <tr style=\"text-align: right;\">\n",
       "      <th></th>\n",
       "      <th>reviewText</th>\n",
       "      <th>overall</th>\n",
       "    </tr>\n",
       "  </thead>\n",
       "  <tbody>\n",
       "    <tr>\n",
       "      <th>869697</th>\n",
       "      <td>ARC provided by author in exchange for an hone...</td>\n",
       "      <td>5</td>\n",
       "    </tr>\n",
       "    <tr>\n",
       "      <th>760913</th>\n",
       "      <td>Wild Ride by Nancy WarrenChanging Gears Series...</td>\n",
       "      <td>5</td>\n",
       "    </tr>\n",
       "    <tr>\n",
       "      <th>159841</th>\n",
       "      <td>Well thought out story, with many things going...</td>\n",
       "      <td>5</td>\n",
       "    </tr>\n",
       "    <tr>\n",
       "      <th>868915</th>\n",
       "      <td>This is book four of a five part serial.  By n...</td>\n",
       "      <td>3</td>\n",
       "    </tr>\n",
       "    <tr>\n",
       "      <th>980703</th>\n",
       "      <td>I really enjoyed this book. It kept me interes...</td>\n",
       "      <td>5</td>\n",
       "    </tr>\n",
       "  </tbody>\n",
       "</table>\n",
       "</div>"
      ],
      "text/plain": [
       "                                               reviewText  overall\n",
       "869697  ARC provided by author in exchange for an hone...        5\n",
       "760913  Wild Ride by Nancy WarrenChanging Gears Series...        5\n",
       "159841  Well thought out story, with many things going...        5\n",
       "868915  This is book four of a five part serial.  By n...        3\n",
       "980703  I really enjoyed this book. It kept me interes...        5"
      ]
     },
     "execution_count": 53,
     "metadata": {},
     "output_type": "execute_result"
    }
   ],
   "source": [
    "# We will focus on Reviews and Ratings\n",
    "\n",
    "df = df[['reviewText','overall']]\n",
    "df.head()"
   ]
  },
  {
   "cell_type": "code",
   "execution_count": 54,
   "metadata": {},
   "outputs": [
    {
     "data": {
      "text/plain": [
       "reviewText    1\n",
       "overall       0\n",
       "dtype: int64"
      ]
     },
     "execution_count": 54,
     "metadata": {},
     "output_type": "execute_result"
    }
   ],
   "source": [
    "df.isnull().sum()"
   ]
  },
  {
   "cell_type": "code",
   "execution_count": 55,
   "metadata": {},
   "outputs": [
    {
     "data": {
      "text/html": [
       "<div>\n",
       "<style scoped>\n",
       "    .dataframe tbody tr th:only-of-type {\n",
       "        vertical-align: middle;\n",
       "    }\n",
       "\n",
       "    .dataframe tbody tr th {\n",
       "        vertical-align: top;\n",
       "    }\n",
       "\n",
       "    .dataframe thead th {\n",
       "        text-align: right;\n",
       "    }\n",
       "</style>\n",
       "<table border=\"1\" class=\"dataframe\">\n",
       "  <thead>\n",
       "    <tr style=\"text-align: right;\">\n",
       "      <th></th>\n",
       "      <th>reviewText</th>\n",
       "      <th>overall</th>\n",
       "    </tr>\n",
       "  </thead>\n",
       "  <tbody>\n",
       "    <tr>\n",
       "      <th>869697</th>\n",
       "      <td>ARC provided by author in exchange for an hone...</td>\n",
       "      <td>5</td>\n",
       "    </tr>\n",
       "    <tr>\n",
       "      <th>760913</th>\n",
       "      <td>Wild Ride by Nancy WarrenChanging Gears Series...</td>\n",
       "      <td>5</td>\n",
       "    </tr>\n",
       "    <tr>\n",
       "      <th>159841</th>\n",
       "      <td>Well thought out story, with many things going...</td>\n",
       "      <td>5</td>\n",
       "    </tr>\n",
       "    <tr>\n",
       "      <th>868915</th>\n",
       "      <td>This is book four of a five part serial.  By n...</td>\n",
       "      <td>3</td>\n",
       "    </tr>\n",
       "    <tr>\n",
       "      <th>980703</th>\n",
       "      <td>I really enjoyed this book. It kept me interes...</td>\n",
       "      <td>5</td>\n",
       "    </tr>\n",
       "  </tbody>\n",
       "</table>\n",
       "</div>"
      ],
      "text/plain": [
       "                                               reviewText  overall\n",
       "869697  ARC provided by author in exchange for an hone...        5\n",
       "760913  Wild Ride by Nancy WarrenChanging Gears Series...        5\n",
       "159841  Well thought out story, with many things going...        5\n",
       "868915  This is book four of a five part serial.  By n...        3\n",
       "980703  I really enjoyed this book. It kept me interes...        5"
      ]
     },
     "execution_count": 55,
     "metadata": {},
     "output_type": "execute_result"
    }
   ],
   "source": [
    "# drop the missing values\n",
    "df = df.dropna()\n",
    "df.head()"
   ]
  },
  {
   "cell_type": "code",
   "execution_count": 56,
   "metadata": {},
   "outputs": [
    {
     "data": {
      "text/plain": [
       "overall\n",
       "5    7035\n",
       "4    3094\n",
       "3    1146\n",
       "2     420\n",
       "1     304\n",
       "Name: count, dtype: int64"
      ]
     },
     "execution_count": 56,
     "metadata": {},
     "output_type": "execute_result"
    }
   ],
   "source": [
    "df['overall'].unique()\n",
    "df['overall'].value_counts()"
   ]
  },
  {
   "cell_type": "code",
   "execution_count": 57,
   "metadata": {},
   "outputs": [],
   "source": [
    "# Lets make it as a classification of review as postiive \n",
    "df['sentiment'] = df['overall'].apply(lambda x:1 if x>=3 else 0)"
   ]
  },
  {
   "cell_type": "code",
   "execution_count": 58,
   "metadata": {},
   "outputs": [
    {
     "data": {
      "text/html": [
       "<div>\n",
       "<style scoped>\n",
       "    .dataframe tbody tr th:only-of-type {\n",
       "        vertical-align: middle;\n",
       "    }\n",
       "\n",
       "    .dataframe tbody tr th {\n",
       "        vertical-align: top;\n",
       "    }\n",
       "\n",
       "    .dataframe thead th {\n",
       "        text-align: right;\n",
       "    }\n",
       "</style>\n",
       "<table border=\"1\" class=\"dataframe\">\n",
       "  <thead>\n",
       "    <tr style=\"text-align: right;\">\n",
       "      <th></th>\n",
       "      <th>reviewText</th>\n",
       "      <th>sentiment</th>\n",
       "    </tr>\n",
       "  </thead>\n",
       "  <tbody>\n",
       "    <tr>\n",
       "      <th>869697</th>\n",
       "      <td>ARC provided by author in exchange for an hone...</td>\n",
       "      <td>1</td>\n",
       "    </tr>\n",
       "    <tr>\n",
       "      <th>760913</th>\n",
       "      <td>Wild Ride by Nancy WarrenChanging Gears Series...</td>\n",
       "      <td>1</td>\n",
       "    </tr>\n",
       "    <tr>\n",
       "      <th>159841</th>\n",
       "      <td>Well thought out story, with many things going...</td>\n",
       "      <td>1</td>\n",
       "    </tr>\n",
       "    <tr>\n",
       "      <th>868915</th>\n",
       "      <td>This is book four of a five part serial.  By n...</td>\n",
       "      <td>1</td>\n",
       "    </tr>\n",
       "    <tr>\n",
       "      <th>980703</th>\n",
       "      <td>I really enjoyed this book. It kept me interes...</td>\n",
       "      <td>1</td>\n",
       "    </tr>\n",
       "  </tbody>\n",
       "</table>\n",
       "</div>"
      ],
      "text/plain": [
       "                                               reviewText  sentiment\n",
       "869697  ARC provided by author in exchange for an hone...          1\n",
       "760913  Wild Ride by Nancy WarrenChanging Gears Series...          1\n",
       "159841  Well thought out story, with many things going...          1\n",
       "868915  This is book four of a five part serial.  By n...          1\n",
       "980703  I really enjoyed this book. It kept me interes...          1"
      ]
     },
     "execution_count": 58,
     "metadata": {},
     "output_type": "execute_result"
    }
   ],
   "source": [
    "df.drop(['overall'],axis=1,inplace=True)\n",
    "df.head()"
   ]
  },
  {
   "cell_type": "code",
   "execution_count": 59,
   "metadata": {},
   "outputs": [
    {
     "data": {
      "text/html": [
       "<div>\n",
       "<style scoped>\n",
       "    .dataframe tbody tr th:only-of-type {\n",
       "        vertical-align: middle;\n",
       "    }\n",
       "\n",
       "    .dataframe tbody tr th {\n",
       "        vertical-align: top;\n",
       "    }\n",
       "\n",
       "    .dataframe thead th {\n",
       "        text-align: right;\n",
       "    }\n",
       "</style>\n",
       "<table border=\"1\" class=\"dataframe\">\n",
       "  <thead>\n",
       "    <tr style=\"text-align: right;\">\n",
       "      <th></th>\n",
       "      <th>reviewText</th>\n",
       "      <th>sentiment</th>\n",
       "    </tr>\n",
       "  </thead>\n",
       "  <tbody>\n",
       "    <tr>\n",
       "      <th>869697</th>\n",
       "      <td>arc provided by author in exchange for an hone...</td>\n",
       "      <td>1</td>\n",
       "    </tr>\n",
       "    <tr>\n",
       "      <th>760913</th>\n",
       "      <td>wild ride by nancy warrenchanging gears series...</td>\n",
       "      <td>1</td>\n",
       "    </tr>\n",
       "    <tr>\n",
       "      <th>159841</th>\n",
       "      <td>well thought out story, with many things going...</td>\n",
       "      <td>1</td>\n",
       "    </tr>\n",
       "    <tr>\n",
       "      <th>868915</th>\n",
       "      <td>this is book four of a five part serial.  by n...</td>\n",
       "      <td>1</td>\n",
       "    </tr>\n",
       "    <tr>\n",
       "      <th>980703</th>\n",
       "      <td>i really enjoyed this book. it kept me interes...</td>\n",
       "      <td>1</td>\n",
       "    </tr>\n",
       "  </tbody>\n",
       "</table>\n",
       "</div>"
      ],
      "text/plain": [
       "                                               reviewText  sentiment\n",
       "869697  arc provided by author in exchange for an hone...          1\n",
       "760913  wild ride by nancy warrenchanging gears series...          1\n",
       "159841  well thought out story, with many things going...          1\n",
       "868915  this is book four of a five part serial.  by n...          1\n",
       "980703  i really enjoyed this book. it kept me interes...          1"
      ]
     },
     "execution_count": 59,
     "metadata": {},
     "output_type": "execute_result"
    }
   ],
   "source": [
    "# Cleaning and Preprocessing the test data\n",
    "\n",
    "# Lower all the text\n",
    "df['reviewText'] = df['reviewText'].str.lower()\n",
    "df.head()"
   ]
  },
  {
   "cell_type": "code",
   "execution_count": 60,
   "metadata": {},
   "outputs": [],
   "source": [
    "from nltk.corpus import stopwords\n",
    "from nltk.stem import WordNetLemmatizer\n",
    "\n",
    "stop_words = stopwords.words('english')\n",
    "lemmatizer = WordNetLemmatizer()"
   ]
  },
  {
   "cell_type": "code",
   "execution_count": 61,
   "metadata": {},
   "outputs": [
    {
     "name": "stdout",
     "output_type": "stream",
     "text": [
      "Requirement already satisfied: beautifulsoup4 in c:\\users\\nitin flavier\\anaconda3\\lib\\site-packages (4.12.3)\n",
      "Requirement already satisfied: soupsieve>1.2 in c:\\users\\nitin flavier\\anaconda3\\lib\\site-packages (from beautifulsoup4) (2.5)\n",
      "Note: you may need to restart the kernel to use updated packages.\n"
     ]
    }
   ],
   "source": [
    "pip install beautifulsoup4"
   ]
  },
  {
   "cell_type": "code",
   "execution_count": 62,
   "metadata": {},
   "outputs": [
    {
     "name": "stderr",
     "output_type": "stream",
     "text": [
      "C:\\Users\\Nitin Flavier\\AppData\\Local\\Temp\\ipykernel_23040\\1304704617.py:8: MarkupResemblesLocatorWarning: The input looks more like a filename than markup. You may want to open this file and pass the filehandle into Beautiful Soup.\n",
      "  df['reviewText'] = df['reviewText'].apply(lambda x: BeautifulSoup(x,'lxml').get_text())\n"
     ]
    }
   ],
   "source": [
    "import re\n",
    "from bs4 import BeautifulSoup\n",
    "\n",
    "# remove urls/links:\n",
    "df['reviewText'] = df['reviewText'].apply(lambda x: re.sub(r'http[s]?://(?:[a-zA-Z]|[0-9]|[$-_@.&+]|[!*\\\\(\\\\),]|(?:%[0-9a-fA-F][0-9a-fA-F]))+','',x))\n",
    "\n",
    "# removing html tags:\n",
    "df['reviewText'] = df['reviewText'].apply(lambda x: BeautifulSoup(x,'lxml').get_text())\n",
    "\n",
    "# remove special characters:\n",
    "df['reviewText'] = df['reviewText'].apply(lambda x:re.sub('[^a-z A-Z 0-9-]','',x))\n",
    "\n",
    "# remove stop words:\n",
    "df['reviewText'] = df['reviewText'].apply(lambda x: \" \".join([y for y in x.split() if y not in stop_words]))\n",
    "\n",
    "# remove additional spaces\n",
    "df['reviewText'] = df['reviewText'].apply(lambda x: \" \".join(x.split()))"
   ]
  },
  {
   "cell_type": "code",
   "execution_count": 63,
   "metadata": {},
   "outputs": [
    {
     "data": {
      "text/html": [
       "<div>\n",
       "<style scoped>\n",
       "    .dataframe tbody tr th:only-of-type {\n",
       "        vertical-align: middle;\n",
       "    }\n",
       "\n",
       "    .dataframe tbody tr th {\n",
       "        vertical-align: top;\n",
       "    }\n",
       "\n",
       "    .dataframe thead th {\n",
       "        text-align: right;\n",
       "    }\n",
       "</style>\n",
       "<table border=\"1\" class=\"dataframe\">\n",
       "  <thead>\n",
       "    <tr style=\"text-align: right;\">\n",
       "      <th></th>\n",
       "      <th>reviewText</th>\n",
       "      <th>sentiment</th>\n",
       "    </tr>\n",
       "  </thead>\n",
       "  <tbody>\n",
       "    <tr>\n",
       "      <th>869697</th>\n",
       "      <td>arc provided author exchange honest reviewthis...</td>\n",
       "      <td>1</td>\n",
       "    </tr>\n",
       "    <tr>\n",
       "      <th>760913</th>\n",
       "      <td>wild ride nancy warrenchanging gears seriesdun...</td>\n",
       "      <td>1</td>\n",
       "    </tr>\n",
       "    <tr>\n",
       "      <th>159841</th>\n",
       "      <td>well thought story many things going time alie...</td>\n",
       "      <td>1</td>\n",
       "    </tr>\n",
       "    <tr>\n",
       "      <th>868915</th>\n",
       "      <td>book four five part serial suspense highest im...</td>\n",
       "      <td>1</td>\n",
       "    </tr>\n",
       "    <tr>\n",
       "      <th>980703</th>\n",
       "      <td>really enjoyed book kept interested page one w...</td>\n",
       "      <td>1</td>\n",
       "    </tr>\n",
       "  </tbody>\n",
       "</table>\n",
       "</div>"
      ],
      "text/plain": [
       "                                               reviewText  sentiment\n",
       "869697  arc provided author exchange honest reviewthis...          1\n",
       "760913  wild ride nancy warrenchanging gears seriesdun...          1\n",
       "159841  well thought story many things going time alie...          1\n",
       "868915  book four five part serial suspense highest im...          1\n",
       "980703  really enjoyed book kept interested page one w...          1"
      ]
     },
     "execution_count": 63,
     "metadata": {},
     "output_type": "execute_result"
    }
   ],
   "source": [
    "df.head()"
   ]
  },
  {
   "cell_type": "code",
   "execution_count": 64,
   "metadata": {},
   "outputs": [],
   "source": [
    "df['reviewText'] = df['reviewText'].apply(lambda x: \" \".join([lemmatizer.lemmatize(w) for w in x.split()]))"
   ]
  },
  {
   "cell_type": "code",
   "execution_count": 65,
   "metadata": {},
   "outputs": [],
   "source": [
    "from sklearn.model_selection import train_test_split \n",
    "\n",
    "X_train,X_test,y_train,y_test = train_test_split(df['reviewText'],df['sentiment'],test_size=0.33,random_state=32)"
   ]
  },
  {
   "cell_type": "markdown",
   "metadata": {},
   "source": [
    "### BOW"
   ]
  },
  {
   "cell_type": "code",
   "execution_count": 66,
   "metadata": {},
   "outputs": [],
   "source": [
    "from sklearn.feature_extraction.text import CountVectorizer \n",
    "\n",
    "bow = CountVectorizer()\n",
    "\n",
    "X_train_bow = bow.fit_transform(X_train).toarray()\n",
    "X_test_bow = bow.transform(X_test).toarray()"
   ]
  },
  {
   "cell_type": "code",
   "execution_count": 69,
   "metadata": {},
   "outputs": [],
   "source": [
    "from sklearn.feature_extraction.text import TfidfVectorizer \n",
    "\n",
    "tfIdf = TfidfVectorizer() \n",
    "\n",
    "X_train_tfidf = tfIdf.fit_transform(X_train).toarray()\n",
    "X_test_tfidf = tfIdf.transform(X_test).toarray()"
   ]
  },
  {
   "cell_type": "code",
   "execution_count": 72,
   "metadata": {},
   "outputs": [
    {
     "name": "stdout",
     "output_type": "stream",
     "text": [
      "BOW Word ---> vector\n",
      "\n",
      "The accuracy score for BOW 0.8285353535353536\n",
      "\n",
      "Confusion Matrix for BOW \n",
      " [[  45  174]\n",
      " [ 505 3236]]\n",
      "\n",
      "Classification Report for BOW               precision    recall  f1-score   support\n",
      "\n",
      "           0       0.08      0.21      0.12       219\n",
      "           1       0.95      0.87      0.91      3741\n",
      "\n",
      "    accuracy                           0.83      3960\n",
      "   macro avg       0.52      0.54      0.51      3960\n",
      "weighted avg       0.90      0.83      0.86      3960\n",
      "\n",
      "\n",
      "\n",
      "TF-IDF Word ---> vector\n",
      "\n",
      "The accuracy score for TF-IDF 0.8282828282828283\n",
      "\n",
      "Confusion Matrix for TF-IDF \n",
      " [[  45  174]\n",
      " [ 506 3235]]\n",
      "\n",
      "Classification Report TF-IDF               precision    recall  f1-score   support\n",
      "\n",
      "           0       0.08      0.21      0.12       219\n",
      "           1       0.95      0.86      0.90      3741\n",
      "\n",
      "    accuracy                           0.83      3960\n",
      "   macro avg       0.52      0.54      0.51      3960\n",
      "weighted avg       0.90      0.83      0.86      3960\n",
      "\n",
      "\n"
     ]
    }
   ],
   "source": [
    "# naive bayes best suited for classification\n",
    "from sklearn.naive_bayes import GaussianNB \n",
    "from sklearn.metrics import accuracy_score, classification_report, confusion_matrix\n",
    "\n",
    "nb = GaussianNB()\n",
    "\n",
    "model_bow = nb.fit(X_train_bow,y_train)\n",
    "y_pred_bow = model_bow.predict(X_test_bow)\n",
    "\n",
    "model_tf = nb.fit(X_train_tfidf,y_train)\n",
    "y_pred_tf = model_tf.predict(X_test_tfidf)\n",
    "\n",
    "\n",
    "print(\"BOW Word ---> vector\")\n",
    "print()\n",
    "print(\"The accuracy score for BOW\", accuracy_score(y_test,y_pred_bow))\n",
    "print()\n",
    "print(\"Confusion Matrix for BOW \\n\", confusion_matrix(y_test,y_pred_bow))\n",
    "print()\n",
    "print(\"Classification Report for BOW\", classification_report(y_test,y_pred_bow))\n",
    "print()\n",
    "print()\n",
    "\n",
    "print(\"TF-IDF Word ---> vector\")\n",
    "print()\n",
    "\n",
    "print(\"The accuracy score for TF-IDF\", accuracy_score(y_test,y_pred_tf))\n",
    "print()\n",
    "print(\"Confusion Matrix for TF-IDF \\n\", confusion_matrix(y_test,y_pred_tf))\n",
    "print()\n",
    "print(\"Classification Report TF-IDF\", classification_report(y_test,y_pred_tf))\n",
    "print()"
   ]
  },
  {
   "cell_type": "markdown",
   "metadata": {},
   "source": [
    "### Word2Vec:\n",
    "\n",
    "to be continued......"
   ]
  }
 ],
 "metadata": {
  "kernelspec": {
   "display_name": "base",
   "language": "python",
   "name": "python3"
  },
  "language_info": {
   "codemirror_mode": {
    "name": "ipython",
    "version": 3
   },
   "file_extension": ".py",
   "mimetype": "text/x-python",
   "name": "python",
   "nbconvert_exporter": "python",
   "pygments_lexer": "ipython3",
   "version": "3.12.7"
  }
 },
 "nbformat": 4,
 "nbformat_minor": 2
}
