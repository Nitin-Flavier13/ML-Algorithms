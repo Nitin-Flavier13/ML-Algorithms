{
 "cells": [
  {
   "cell_type": "code",
   "execution_count": 31,
   "metadata": {},
   "outputs": [
    {
     "name": "stdout",
     "output_type": "stream",
     "text": [
      " Hello, welcome to Wayne Enterprises! i am nitin here.\n",
      "Please sit-down for a while, our boss will meet u soon.\n",
      "\n"
     ]
    }
   ],
   "source": [
    "corpus = \"\"\" Hello, welcome to Wayne Enterprises! i am nitin here.\n",
    "Please sit-down for a while, our boss will meet u soon.\n",
    "\"\"\"\n",
    "\n",
    "print(corpus)"
   ]
  },
  {
   "cell_type": "code",
   "execution_count": 15,
   "metadata": {},
   "outputs": [
    {
     "name": "stdout",
     "output_type": "stream",
     "text": [
      "Requirement already satisfied: nltk in c:\\users\\nitin flavier\\anaconda3\\lib\\site-packages (3.9.1)\n",
      "Requirement already satisfied: click in c:\\users\\nitin flavier\\anaconda3\\lib\\site-packages (from nltk) (8.1.7)\n",
      "Requirement already satisfied: joblib in c:\\users\\nitin flavier\\anaconda3\\lib\\site-packages (from nltk) (1.4.2)\n",
      "Requirement already satisfied: regex>=2021.8.3 in c:\\users\\nitin flavier\\anaconda3\\lib\\site-packages (from nltk) (2024.9.11)\n",
      "Requirement already satisfied: tqdm in c:\\users\\nitin flavier\\anaconda3\\lib\\site-packages (from nltk) (4.66.5)\n",
      "Requirement already satisfied: colorama in c:\\users\\nitin flavier\\anaconda3\\lib\\site-packages (from click->nltk) (0.4.6)\n"
     ]
    }
   ],
   "source": [
    "!pip install nltk"
   ]
  },
  {
   "cell_type": "code",
   "execution_count": null,
   "metadata": {},
   "outputs": [
    {
     "name": "stderr",
     "output_type": "stream",
     "text": [
      "[nltk_data] Downloading package punkt_tab to C:\\Users\\Nitin\n",
      "[nltk_data]     Flavier\\AppData\\Roaming\\nltk_data...\n",
      "[nltk_data]   Unzipping tokenizers\\punkt_tab.zip.\n"
     ]
    },
    {
     "data": {
      "text/plain": [
       "True"
      ]
     },
     "execution_count": 28,
     "metadata": {},
     "output_type": "execute_result"
    }
   ],
   "source": [
    "import nltk\n",
    "nltk.download('punkt_tab')"
   ]
  },
  {
   "cell_type": "code",
   "execution_count": 35,
   "metadata": {},
   "outputs": [
    {
     "name": "stdout",
     "output_type": "stream",
     "text": [
      "[' Hello, welcome to Wayne Enterprises!', 'i am nitin here.', 'Please sit-down for a while, our boss will meet u soon.']\n"
     ]
    }
   ],
   "source": [
    "from nltk.tokenize import sent_tokenize\n",
    "\n",
    "# corpus = \"This is the first sentence. This is the second sentence.\"\n",
    "documents = sent_tokenize(corpus)\n",
    "\n",
    "print(documents)\n"
   ]
  },
  {
   "cell_type": "code",
   "execution_count": 42,
   "metadata": {},
   "outputs": [
    {
     "name": "stdout",
     "output_type": "stream",
     "text": [
      "['Hello', ',', 'welcome', 'to', 'Wayne', 'Enterprises', '!', 'i', 'am', 'nitin', 'here', '.', 'Please', 'sit-down', 'for', 'a', 'while', ',', 'our', 'boss', 'will', 'meet', 'u', 'soon', '.']\n",
      "['Hello', ',', 'welcome', 'to', 'Wayne', 'Enterprises', '!', 'i', 'am', 'nitin', 'here', '.', 'Please', 'sit', '-', 'down', 'for', 'a', 'while', ',', 'our', 'boss', 'will', 'meet', 'u', 'soon', '.']\n",
      "['Hello', ',', 'welcome', 'to', 'Wayne', 'Enterprises', '!', 'i', 'am', 'nitin', 'here.', 'Please', 'sit-down', 'for', 'a', 'while', ',', 'our', 'boss', 'will', 'meet', 'u', 'soon', '.']\n"
     ]
    }
   ],
   "source": [
    "## Para to words\n",
    "## Sentence to words\n",
    "from nltk.tokenize import word_tokenize, wordpunct_tokenize, TreebankWordTokenizer\n",
    "\n",
    "words = word_tokenize(corpus)\n",
    "print(words)\n",
    "\n",
    "punc_tokenize = wordpunct_tokenize(corpus)\n",
    "print(punc_tokenize)\n",
    "\n",
    "tokenizer = TreebankWordTokenizer()\n",
    "data = tokenizer.tokenize(corpus)\n",
    "print(data)"
   ]
  }
 ],
 "metadata": {
  "kernelspec": {
   "display_name": "Python 3",
   "language": "python",
   "name": "python3"
  },
  "language_info": {
   "codemirror_mode": {
    "name": "ipython",
    "version": 3
   },
   "file_extension": ".py",
   "mimetype": "text/x-python",
   "name": "python",
   "nbconvert_exporter": "python",
   "pygments_lexer": "ipython3",
   "version": "3.13.0"
  }
 },
 "nbformat": 4,
 "nbformat_minor": 2
}
